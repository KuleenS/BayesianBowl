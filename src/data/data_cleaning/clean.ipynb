{
 "cells": [
  {
   "cell_type": "code",
   "execution_count": 1,
   "metadata": {},
   "outputs": [],
   "source": [
    "import pandas as pd"
   ]
  },
  {
   "cell_type": "code",
   "execution_count": 2,
   "metadata": {},
   "outputs": [],
   "source": [
    "import numpy as np"
   ]
  },
  {
   "cell_type": "code",
   "execution_count": 3,
   "metadata": {},
   "outputs": [],
   "source": [
    "# input filter data\n",
    "\n",
    "with open(\"../../data/filter\", \"r\") as f:\n",
    "    filter_data = f.readlines()"
   ]
  },
  {
   "cell_type": "code",
   "execution_count": 4,
   "metadata": {},
   "outputs": [],
   "source": [
    "filter_data = set([x.strip() for x in filter_data])"
   ]
  },
  {
   "cell_type": "code",
   "execution_count": 5,
   "metadata": {},
   "outputs": [
    {
     "name": "stderr",
     "output_type": "stream",
     "text": [
      "/tmp/ipykernel_1080/593206604.py:1: DtypeWarning: Columns (16,18,20,21,22,23) have mixed types. Specify dtype option on import or set low_memory=False.\n",
      "  df = pd.read_csv(\"../../data/dataset.csv\")\n"
     ]
    }
   ],
   "source": [
    "# load dataset\n",
    "\n",
    "df = pd.read_csv(\"../../data/dataset.csv\")"
   ]
  },
  {
   "cell_type": "code",
   "execution_count": 6,
   "metadata": {},
   "outputs": [],
   "source": [
    "# replace bad rows with blank string\n",
    "\n",
    "df[\"Winner\"] = df[\"Winner\"].str.replace(\"'\", \"\")\n",
    "df[\"Loser\"] = df[\"Loser\"].str.replace(\"'\", \"\")\n"
   ]
  },
  {
   "cell_type": "code",
   "execution_count": 7,
   "metadata": {},
   "outputs": [],
   "source": [
    "# replace forfeits with score 0 \n",
    "# because forfeits tell us nothing\n",
    "\n",
    "df[\"Score1\"] = df[\"Score1\"].replace(\"Forfeit\", 0).replace(\"Forfeit Tie\", 0)\n",
    "df[\"Score2\"] = df[\"Score2\"].replace(\"Forfeit\", 0).replace(\"Forfeit Tie\", 0)\n"
   ]
  },
  {
   "cell_type": "code",
   "execution_count": 8,
   "metadata": {},
   "outputs": [],
   "source": [
    "# change scores to numeric instead of strings\n",
    "\n",
    "df[\"Score1\"] = pd.to_numeric(df[\"Score1\"])\n",
    "df[\"Score2\"] = pd.to_numeric(df[\"Score2\"])\n"
   ]
  },
  {
   "cell_type": "code",
   "execution_count": null,
   "metadata": {},
   "outputs": [],
   "source": [
    "# convert all stats columns to numeric\n",
    "# replaces special character with nan because its leftover from scraping"
   ]
  },
  {
   "cell_type": "code",
   "execution_count": 9,
   "metadata": {},
   "outputs": [],
   "source": [
    "df[\"P1\"] = pd.to_numeric(df[\"P1\"].replace(\"\\xa0\", np.nan))"
   ]
  },
  {
   "cell_type": "code",
   "execution_count": 10,
   "metadata": {},
   "outputs": [],
   "source": [
    "df[\"TU1\"] = pd.to_numeric(df[\"TU1\"].replace(\"\\xa0\", np.nan))"
   ]
  },
  {
   "cell_type": "code",
   "execution_count": 11,
   "metadata": {},
   "outputs": [],
   "source": [
    "df[\"I1\"] = pd.to_numeric(df[\"I1\"].replace(\"\\xa0\", np.nan))"
   ]
  },
  {
   "cell_type": "code",
   "execution_count": 12,
   "metadata": {},
   "outputs": [],
   "source": [
    "df.B1 = pd.to_numeric(df.B1.replace(\"\\xa0\", np.nan))"
   ]
  },
  {
   "cell_type": "code",
   "execution_count": 13,
   "metadata": {},
   "outputs": [],
   "source": [
    "df.PPB1 = pd.to_numeric(df.PPB1.replace(\"\\xa0\", np.nan))"
   ]
  },
  {
   "cell_type": "code",
   "execution_count": 14,
   "metadata": {},
   "outputs": [],
   "source": [
    "df.P2 = pd.to_numeric(df.P2.replace(\"\\xa0\", np.nan))"
   ]
  },
  {
   "cell_type": "code",
   "execution_count": 15,
   "metadata": {},
   "outputs": [],
   "source": [
    "df.TU2 = pd.to_numeric(df.TU2.replace(\"\\xa0\", np.nan))"
   ]
  },
  {
   "cell_type": "code",
   "execution_count": 16,
   "metadata": {},
   "outputs": [],
   "source": [
    "df.I2 = pd.to_numeric(df.I2.replace(\"\\xa0\", np.nan))"
   ]
  },
  {
   "cell_type": "code",
   "execution_count": 17,
   "metadata": {},
   "outputs": [],
   "source": [
    "df.B2 = pd.to_numeric(df.B2.replace(\"\\xa0\", np.nan))"
   ]
  },
  {
   "cell_type": "code",
   "execution_count": 18,
   "metadata": {},
   "outputs": [],
   "source": [
    "df.PPB2 = pd.to_numeric(df.PPB2.replace(\"\\xa0\", np.nan))"
   ]
  },
  {
   "cell_type": "code",
   "execution_count": 19,
   "metadata": {},
   "outputs": [],
   "source": [
    "df.TUH = pd.to_numeric(df.TUH.replace(\"\\xa0\", np.nan).replace(\"-\", np.nan))"
   ]
  },
  {
   "cell_type": "code",
   "execution_count": 20,
   "metadata": {},
   "outputs": [],
   "source": [
    "df.BB1 = pd.to_numeric(df.BB1.replace(\"\\xa0\", np.nan))"
   ]
  },
  {
   "cell_type": "code",
   "execution_count": 21,
   "metadata": {},
   "outputs": [],
   "source": [
    "df[\"BB%1\"] = pd.to_numeric(df[\"BB%1\"].str.replace(\"%\", \"\").replace(\"\\xa0\", np.nan))"
   ]
  },
  {
   "cell_type": "code",
   "execution_count": 22,
   "metadata": {},
   "outputs": [],
   "source": [
    "df.BB2 = pd.to_numeric(df.BB2.replace(\"\\xa0\", np.nan))"
   ]
  },
  {
   "cell_type": "code",
   "execution_count": 23,
   "metadata": {},
   "outputs": [],
   "source": [
    "df[\"BB%2\"] = pd.to_numeric(df[\"BB%2\"].str.replace(\"%\", \"\").replace(\"\\xa0\", np.nan))"
   ]
  },
  {
   "cell_type": "code",
   "execution_count": 24,
   "metadata": {},
   "outputs": [],
   "source": [
    "df.Ltng1 = pd.to_numeric(df.Ltng1.replace(\"\\xa0\", np.nan))"
   ]
  },
  {
   "cell_type": "code",
   "execution_count": 25,
   "metadata": {},
   "outputs": [],
   "source": [
    "df.Ltng2 = pd.to_numeric(df.Ltng2.replace(\"\\xa0\", np.nan))"
   ]
  },
  {
   "cell_type": "code",
   "execution_count": 26,
   "metadata": {},
   "outputs": [],
   "source": [
    "df.Wksht1 = pd.to_numeric(df.Wksht1.replace(\"\\xa0\", np.nan))"
   ]
  },
  {
   "cell_type": "code",
   "execution_count": 27,
   "metadata": {},
   "outputs": [],
   "source": [
    "df.Wksht2 = pd.to_numeric(df.Wksht2.replace(\"\\xa0\", np.nan))"
   ]
  },
  {
   "cell_type": "code",
   "execution_count": 28,
   "metadata": {},
   "outputs": [],
   "source": [
    "df[\"Ltng/Wksht1\"] = pd.to_numeric(df[\"Ltng/Wksht1\"].replace(\"\\xa0\", np.nan))"
   ]
  },
  {
   "cell_type": "code",
   "execution_count": 29,
   "metadata": {},
   "outputs": [],
   "source": [
    "df[\"Ltng/Wksht2\"] = pd.to_numeric(df[\"Ltng/Wksht2\"].replace(\"\\xa0\", np.nan))"
   ]
  },
  {
   "cell_type": "code",
   "execution_count": 30,
   "metadata": {},
   "outputs": [],
   "source": [
    "# remove teams not in scope\n",
    "filtered_dataset = df[~df.Loser.isin(filter_data) & ~df.Winner.isin(filter_data)]"
   ]
  },
  {
   "cell_type": "code",
   "execution_count": 31,
   "metadata": {},
   "outputs": [
    {
     "name": "stderr",
     "output_type": "stream",
     "text": [
      "/tmp/ipykernel_1080/2602805522.py:1: SettingWithCopyWarning: \n",
      "A value is trying to be set on a copy of a slice from a DataFrame\n",
      "\n",
      "See the caveats in the documentation: https://pandas.pydata.org/pandas-docs/stable/user_guide/indexing.html#returning-a-view-versus-a-copy\n",
      "  filtered_dataset.drop(\"Index\", axis=1, inplace=True)\n"
     ]
    }
   ],
   "source": [
    "filtered_dataset.drop(\"Index\", axis=1, inplace=True)"
   ]
  },
  {
   "cell_type": "code",
   "execution_count": 32,
   "metadata": {},
   "outputs": [],
   "source": [
    "# export data\n",
    "\n",
    "filtered_dataset.to_csv(\"../../data/cleaned_filtered_dataset_nans.csv\", index=False)"
   ]
  },
  {
   "cell_type": "code",
   "execution_count": null,
   "metadata": {},
   "outputs": [],
   "source": []
  }
 ],
 "metadata": {
  "kernelspec": {
   "display_name": "bayes",
   "language": "python",
   "name": "python3"
  },
  "language_info": {
   "codemirror_mode": {
    "name": "ipython",
    "version": 3
   },
   "file_extension": ".py",
   "mimetype": "text/x-python",
   "name": "python",
   "nbconvert_exporter": "python",
   "pygments_lexer": "ipython3",
   "version": "3.11.6"
  }
 },
 "nbformat": 4,
 "nbformat_minor": 2
}
