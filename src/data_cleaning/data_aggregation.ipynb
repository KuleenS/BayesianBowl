{
 "cells": [
  {
   "cell_type": "code",
   "execution_count": 1,
   "metadata": {},
   "outputs": [
    {
     "name": "stderr",
     "output_type": "stream",
     "text": [
      "  4%|▎         | 360/10119 [00:00<00:26, 365.14it/s]"
     ]
    },
    {
     "name": "stdout",
     "output_type": "stream",
     "text": [
      "../../raw_data/tournament_10924.pickle\n"
     ]
    },
    {
     "name": "stderr",
     "output_type": "stream",
     "text": [
      " 24%|██▍       | 2431/10119 [00:05<00:15, 500.85it/s]"
     ]
    },
    {
     "name": "stdout",
     "output_type": "stream",
     "text": [
      "../../raw_data/tournament_7889.pickle\n"
     ]
    },
    {
     "name": "stderr",
     "output_type": "stream",
     "text": [
      " 37%|███▋      | 3755/10119 [00:08<00:14, 441.14it/s]"
     ]
    },
    {
     "name": "stdout",
     "output_type": "stream",
     "text": [
      "../../raw_data/tournament_4422.pickle\n"
     ]
    },
    {
     "name": "stderr",
     "output_type": "stream",
     "text": [
      " 42%|████▏     | 4227/10119 [00:09<00:12, 457.08it/s]"
     ]
    },
    {
     "name": "stdout",
     "output_type": "stream",
     "text": [
      "../../raw_data/tournament_3395.pickle\n"
     ]
    },
    {
     "name": "stderr",
     "output_type": "stream",
     "text": [
      " 55%|█████▌    | 5591/10119 [00:12<00:09, 473.46it/s]"
     ]
    },
    {
     "name": "stdout",
     "output_type": "stream",
     "text": [
      "../../raw_data/tournament_8536.pickle\n"
     ]
    },
    {
     "name": "stderr",
     "output_type": "stream",
     "text": [
      " 58%|█████▊    | 5852/10119 [00:13<00:08, 501.20it/s]"
     ]
    },
    {
     "name": "stdout",
     "output_type": "stream",
     "text": [
      "../../raw_data/tournament_3984.pickle\n"
     ]
    },
    {
     "name": "stderr",
     "output_type": "stream",
     "text": [
      " 59%|█████▉    | 5972/10119 [00:13<00:08, 516.90it/s]"
     ]
    },
    {
     "name": "stdout",
     "output_type": "stream",
     "text": [
      "../../raw_data/tournament_3407.pickle\n"
     ]
    },
    {
     "name": "stderr",
     "output_type": "stream",
     "text": [
      " 64%|██████▍   | 6499/10119 [00:14<00:09, 377.65it/s]"
     ]
    },
    {
     "name": "stdout",
     "output_type": "stream",
     "text": [
      "../../raw_data/tournament_9938.pickle\n"
     ]
    },
    {
     "name": "stderr",
     "output_type": "stream",
     "text": [
      " 85%|████████▌ | 8650/10119 [00:19<00:02, 491.39it/s]"
     ]
    },
    {
     "name": "stdout",
     "output_type": "stream",
     "text": [
      "../../raw_data/tournament_4654.pickle\n"
     ]
    },
    {
     "name": "stderr",
     "output_type": "stream",
     "text": [
      "100%|██████████| 10119/10119 [00:22<00:00, 448.13it/s]\n"
     ]
    }
   ],
   "source": [
    "import os\n",
    "\n",
    "import pickle\n",
    "\n",
    "import pandas as pd\n",
    "\n",
    "from tqdm import tqdm\n",
    "\n",
    "import sys \n",
    "\n",
    "from typing import List, Tuple\n",
    "\n",
    "\n",
    "class Individual:\n",
    "    def __init__(\n",
    "        self,\n",
    "        team: str,\n",
    "        id: int,\n",
    "        header: List[str],\n",
    "        scores: List[Tuple[List[str], List[str]]],\n",
    "    ):\n",
    "        self.team = team\n",
    "        self.id = id\n",
    "        self.header = header\n",
    "        self.scores = scores\n",
    "\n",
    "class Tournament:\n",
    "    def __init__(\n",
    "        self,\n",
    "        tourn_id: int,\n",
    "        packets: str,\n",
    "        headers: List[List[str]],\n",
    "        round_scores: List[Tuple[List[str], List[str]]],\n",
    "        individuals: List[Individual],\n",
    "    ):\n",
    "        self.id = tourn_id\n",
    "        self.packets = packets\n",
    "        self.headers = headers\n",
    "        self.round_scores = round_scores\n",
    "        self.individuals = individuals\n",
    "\n",
    "\n",
    "path = \"../../raw_data/\"\n",
    "tournaments = [os.path.join(path, x) for x in os.listdir(path)]\n",
    "\n",
    "rounds_data = []\n",
    "\n",
    "failed_pickles = set()\n",
    "\n",
    "for pickle_ in tqdm(tournaments):\n",
    "    with open(pickle_, \"rb\") as f:\n",
    "        try:\n",
    "            data = pickle.load(f)\n",
    "        except EOFError:\n",
    "            print(pickle_)\n",
    "        if (\n",
    "            len(data.headers) != 0\n",
    "            and len(data.round_scores) != 0\n",
    "            and len(data.round_scores[0]) != 0\n",
    "        ):\n",
    "            for headers, round_ in zip(data.headers, data.round_scores):\n",
    "                indices_winner = headers.index(\"Winner\")\n",
    "                indices_loser = headers.index(\"Loser\")\n",
    "\n",
    "                seen = set()\n",
    "                for i in range(len(headers)):\n",
    "                    if headers[i] not in [\"Winner\", \"Loser\", \"Result\", \"Team\", \"Player\", \"TUH\"]:\n",
    "                        if headers[i] not in seen:\n",
    "                            seen.add(headers[i])\n",
    "                            headers[i] +=\"1\"\n",
    "                        else:\n",
    "                            headers[i]+=\"2\"\n",
    "\n",
    "                for match in round_:\n",
    "                    match[1].insert(indices_winner, match[0][0])\n",
    "                    match[1].insert(indices_loser, match[0][1])\n",
    "\n",
    "                    if len(headers) != len(match[1]):\n",
    "                        failed_pickles.add(pickle_)\n",
    "                    else:\n",
    "\n",
    "                        round_score = dict(zip(headers, match[1]))\n",
    "\n",
    "                        rounds_data.append(round_score)\n",
    "\n",
    "df = pd.DataFrame(rounds_data)\n"
   ]
  },
  {
   "cell_type": "code",
   "execution_count": 2,
   "metadata": {},
   "outputs": [
    {
     "name": "stdout",
     "output_type": "stream",
     "text": [
      "../../raw_data/tournament_10924.pickle\n",
      "../../raw_data/tournament_4422.pickle\n",
      "../../raw_data/tournament_7889.pickle\n",
      "../../raw_data/tournament_3395.pickle\n",
      "../../raw_data/tournament_9938.pickle\n",
      "../../raw_data/tournament_3984.pickle\n",
      "../../raw_data/tournament_4654.pickle\n"
     ]
    }
   ],
   "source": [
    "failed_pickles_data = []\n",
    "\n",
    "\n",
    "for pickle_ in failed_pickles:\n",
    "    with open(pickle_, \"rb\") as f:\n",
    "        try:\n",
    "            data = pickle.load(f)\n",
    "        except EOFError:\n",
    "            print(pickle_)\n",
    "        if (\n",
    "            len(data.headers) != 0\n",
    "            and len(data.round_scores) != 0\n",
    "            and len(data.round_scores[0]) != 0\n",
    "        ):\n",
    "            for headers, round_ in zip(data.headers, data.round_scores):\n",
    "                indices_winner = headers.index(\"Winner\")\n",
    "                indices_loser = headers.index(\"Loser\")\n",
    "\n",
    "                for match in round_:\n",
    "                    match[1].insert(indices_winner, match[0][0])\n",
    "                    match[1].insert(indices_loser, match[0][1])\n",
    "\n",
    "                    failed_pickles_data.append(match[1])"
   ]
  }
 ],
 "metadata": {
  "kernelspec": {
   "display_name": "bayes",
   "language": "python",
   "name": "python3"
  },
  "language_info": {
   "codemirror_mode": {
    "name": "ipython",
    "version": 3
   },
   "file_extension": ".py",
   "mimetype": "text/x-python",
   "name": "python",
   "nbconvert_exporter": "python",
   "pygments_lexer": "ipython3",
   "version": "3.11.6"
  }
 },
 "nbformat": 4,
 "nbformat_minor": 2
}
