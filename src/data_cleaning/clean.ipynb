{
 "cells": [
  {
   "cell_type": "code",
   "execution_count": null,
   "metadata": {},
   "outputs": [],
   "source": [
    "import pandas as pd"
   ]
  },
  {
   "cell_type": "code",
   "execution_count": null,
   "metadata": {},
   "outputs": [],
   "source": [
    "with open(\"../../data/filter\", \"r\") as f:\n",
    "    filter_data = f.readlines()"
   ]
  },
  {
   "cell_type": "code",
   "execution_count": null,
   "metadata": {},
   "outputs": [],
   "source": [
    "filter_data = set([x.strip() for x in filter_data])"
   ]
  },
  {
   "cell_type": "code",
   "execution_count": null,
   "metadata": {},
   "outputs": [],
   "source": [
    "df = pd.read_csv(\"../../data/dataset.csv\")"
   ]
  },
  {
   "cell_type": "code",
   "execution_count": null,
   "metadata": {},
   "outputs": [],
   "source": [
    "df[\"Winner\"] = df[\"Winner\"].str.replace(\"'\", \"\")\n",
    "df[\"Loser\"] = df[\"Loser\"].str.replace(\"'\", \"\")\n"
   ]
  },
  {
   "cell_type": "code",
   "execution_count": null,
   "metadata": {},
   "outputs": [],
   "source": [
    "df[\"Score1\"] = df[\"Score1\"].replace(\"Forfeit\", 0).replace(\"Forfeit Tie\", 0)\n",
    "df[\"Score2\"] = df[\"Score2\"].replace(\"Forfeit\", 0).replace(\"Forfeit Tie\", 0)\n"
   ]
  },
  {
   "cell_type": "code",
   "execution_count": null,
   "metadata": {},
   "outputs": [],
   "source": [
    "df[\"Score1\"] = pd.to_numeric(df[\"Score1\"])\n",
    "df[\"Score2\"] = pd.to_numeric(df[\"Score1\"])\n"
   ]
  },
  {
   "cell_type": "code",
   "execution_count": null,
   "metadata": {},
   "outputs": [],
   "source": [
    "df[\"P1\"] = pd.to_numeric(df[\"P1\"].replace(\"\\xa0\", 0).fillna(0))"
   ]
  },
  {
   "cell_type": "code",
   "execution_count": null,
   "metadata": {},
   "outputs": [],
   "source": [
    "df[\"TU1\"] = pd.to_numeric(df[\"TU1\"].replace(\"\\xa0\", 0).fillna(0))"
   ]
  },
  {
   "cell_type": "code",
   "execution_count": null,
   "metadata": {},
   "outputs": [],
   "source": [
    "df[\"I1\"] = pd.to_numeric(df[\"I1\"].replace(\"\\xa0\", 0).fillna(0))"
   ]
  },
  {
   "cell_type": "code",
   "execution_count": null,
   "metadata": {},
   "outputs": [],
   "source": [
    "df.B1 = pd.to_numeric(df.B1.replace(\"\\xa0\", 0).fillna(0))"
   ]
  },
  {
   "cell_type": "code",
   "execution_count": null,
   "metadata": {},
   "outputs": [],
   "source": [
    "df.PPB1 = pd.to_numeric(df.PPB1.replace(\"\\xa0\", 0).fillna(0))"
   ]
  },
  {
   "cell_type": "code",
   "execution_count": null,
   "metadata": {},
   "outputs": [],
   "source": [
    "df.P2 = pd.to_numeric(df.P2.replace(\"\\xa0\", 0).fillna(0))"
   ]
  },
  {
   "cell_type": "code",
   "execution_count": null,
   "metadata": {},
   "outputs": [],
   "source": [
    "df.TU2 = pd.to_numeric(df.TU2.replace(\"\\xa0\", 0).fillna(0))"
   ]
  },
  {
   "cell_type": "code",
   "execution_count": null,
   "metadata": {},
   "outputs": [],
   "source": [
    "df.I2 = pd.to_numeric(df.I2.replace(\"\\xa0\", 0).fillna(0))"
   ]
  },
  {
   "cell_type": "code",
   "execution_count": null,
   "metadata": {},
   "outputs": [],
   "source": [
    "df.B2 = pd.to_numeric(df.B2.replace(\"\\xa0\", 0).fillna(0))"
   ]
  },
  {
   "cell_type": "code",
   "execution_count": null,
   "metadata": {},
   "outputs": [],
   "source": [
    "df.PPB2 = pd.to_numeric(df.PPB2.replace(\"\\xa0\", 0).fillna(0))"
   ]
  },
  {
   "cell_type": "code",
   "execution_count": null,
   "metadata": {},
   "outputs": [],
   "source": [
    "df.TUH = pd.to_numeric(df.TUH.replace(\"\\xa0\", 0).replace(\"-\", 0).fillna(0))"
   ]
  },
  {
   "cell_type": "code",
   "execution_count": null,
   "metadata": {},
   "outputs": [],
   "source": [
    "df.BB1 = pd.to_numeric(df.BB1.replace(\"\\xa0\", 0).fillna(0))"
   ]
  },
  {
   "cell_type": "code",
   "execution_count": null,
   "metadata": {},
   "outputs": [],
   "source": [
    "df[\"BB%1\"] = pd.to_numeric(df[\"BB%1\"].str.replace(\"%\", \"\").replace(\"\\xa0\", 0).fillna(0))"
   ]
  },
  {
   "cell_type": "code",
   "execution_count": null,
   "metadata": {},
   "outputs": [],
   "source": [
    "df.BB2 = pd.to_numeric(df.BB2.replace(\"\\xa0\", 0).fillna(0))"
   ]
  },
  {
   "cell_type": "code",
   "execution_count": null,
   "metadata": {},
   "outputs": [],
   "source": [
    "df[\"BB%2\"] = pd.to_numeric(df[\"BB%2\"].str.replace(\"%\", \"\").replace(\"\\xa0\", 0).fillna(0))"
   ]
  },
  {
   "cell_type": "code",
   "execution_count": null,
   "metadata": {},
   "outputs": [],
   "source": [
    "df.Ltng1 = pd.to_numeric(df.Ltng1.replace(\"\\xa0\", 0).fillna(0))"
   ]
  },
  {
   "cell_type": "code",
   "execution_count": null,
   "metadata": {},
   "outputs": [],
   "source": [
    "df.Ltng2 = pd.to_numeric(df.Ltng2.replace(\"\\xa0\", 0).fillna(0))"
   ]
  },
  {
   "cell_type": "code",
   "execution_count": null,
   "metadata": {},
   "outputs": [],
   "source": [
    "df.Wksht1 = pd.to_numeric(df.Wksht1.replace(\"\\xa0\", 0).fillna(0))"
   ]
  },
  {
   "cell_type": "code",
   "execution_count": null,
   "metadata": {},
   "outputs": [],
   "source": [
    "df.Wksht2 = pd.to_numeric(df.Wksht2.replace(\"\\xa0\", 0).fillna(0))"
   ]
  },
  {
   "cell_type": "code",
   "execution_count": null,
   "metadata": {},
   "outputs": [],
   "source": [
    "df[\"Ltng/Wksht1\"] = pd.to_numeric(df[\"Ltng/Wksht1\"].replace(\"\\xa0\", 0).fillna(0))"
   ]
  },
  {
   "cell_type": "code",
   "execution_count": null,
   "metadata": {},
   "outputs": [],
   "source": [
    "df[\"Ltng/Wksht2\"] = pd.to_numeric(df[\"Ltng/Wksht2\"].replace(\"\\xa0\", 0).fillna(0))"
   ]
  },
  {
   "cell_type": "code",
   "execution_count": null,
   "metadata": {},
   "outputs": [],
   "source": [
    "filtered_dataset = df[~df.Loser.isin(filter_data) & ~df.Winner.isin(filter_data)]"
   ]
  },
  {
   "cell_type": "code",
   "execution_count": null,
   "metadata": {},
   "outputs": [],
   "source": []
  }
 ],
 "metadata": {
  "kernelspec": {
   "display_name": "bayes",
   "language": "python",
   "name": "python3"
  },
  "language_info": {
   "codemirror_mode": {
    "name": "ipython",
    "version": 3
   },
   "file_extension": ".py",
   "mimetype": "text/x-python",
   "name": "python",
   "nbconvert_exporter": "python",
   "pygments_lexer": "ipython3",
   "version": "3.11.6"
  }
 },
 "nbformat": 4,
 "nbformat_minor": 2
}
